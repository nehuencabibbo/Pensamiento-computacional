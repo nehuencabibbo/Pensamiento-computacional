{
  "cells": [
    {
      "cell_type": "markdown",
      "metadata": {
        "id": "ezEI372mgS36"
      },
      "source": [
        "### **Ejercicio** 11 :\n",
        "\n",
        "La señora Rowling sospecha que su vecino le robo algunos manuscritos y los publicó como propios con algunas modificaciones. Se desea procesar una lista de archivos y guardar en un archivo llamado reporte_plagio.txt la siguiente información:\n",
        "\n",
        "```\n",
        "archivo;palabras;apariciones\n",
        "archivo1.txt;765030;547\n",
        "```\n",
        "* archivo: es el nombre del archivo que se proceso.\n",
        "* palabras: es la cantidad de palabras de ese archivo.\n",
        "* apariciones: es la cantidad de veces que aparece una palabra especificada.\n",
        "\n",
        "En procesar_archivos se tiene que analizar los archivos y dejar el resultado en reporte_plagio.txt"
      ]
    },
    {
      "cell_type": "code",
      "execution_count": null,
      "metadata": {
        "id": "SumxouWset0J"
      },
      "outputs": [],
      "source": [
        "# 1. Itero cada archivo\n",
        "  # 1.1 Leo el archivo\n",
        "  # 1.2 Obtengo las lineas\n",
        "  # 1.3 Divido las lineas en palabras para poder contar el total de palabras y si se repite la palabra especifica\n",
        "#2. Creo y escribo el reporte_plagio.txt\n",
        "\n",
        "def procesar_archivos(archivos, palabra):\n",
        "    reporte = []\n",
        "    apariciones_palabra = 0\n",
        "    cantidad_palabras = 0\n",
        "\n",
        "    for archivo in archivos:\n",
        "        with open(archivo, 'r') as archivo:\n",
        "            lineas = archivo.read()\n",
        "        palabras = lineas.split()\n",
        "        cantidad_palabras = len(palabras)\n",
        "        for linea in palabras:\n",
        "            if linea == palabra:\n",
        "                apariciones_palabra = apariciones_palabra + 1\n",
        "\n",
        "        reporte.append(f\"{archivo};{cantidad_palabras};{apariciones_palabra}\")\n",
        "\n",
        "    with open('reporte_plagio.txt', 'w') as archivo_reporte:\n",
        "      archivo_reporte.write('archivo;palabras;apariciones\\n')  # No olvidarse del encabezado\n",
        "      archivo_reporte.writelines(reporte)"
      ]
    },
    {
      "cell_type": "markdown",
      "metadata": {
        "id": "GKCXFRDQeqXj"
      },
      "source": [
        "Mencionamos en clase que tambien se podia escribir el archivo en forma append:"
      ]
    },
    {
      "cell_type": "code",
      "execution_count": null,
      "metadata": {
        "id": "lzOQ8nXDfZEC"
      },
      "outputs": [],
      "source": [
        "def procesar_archivos_con_append(archivos, palabra):\n",
        "    with open('reporte_plagio.txt', 'a') as archivo_reporte:\n",
        "        archivo_reporte.write(f'archivo;palabras;apariciones\\n')\n",
        "\n",
        "        for archivo in archivos:\n",
        "          with open(archivo, 'r') as archivo:\n",
        "              lineas = archivo.read()\n",
        "          palabras = lineas.split()\n",
        "          cantidad_palabras = len(palabras)\n",
        "          for linea in palabras:\n",
        "              if linea == palabra:\n",
        "                  apariciones_palabra = apariciones_palabra + 1\n",
        "\n",
        "          # Escribo los datos obtenidos directamente en el archivo de reporte\n",
        "          archivo_reporte.write(f\"{archivo};{cantidad_palabras};{apariciones_palabra}\\n\")\n"
      ]
    },
    {
      "cell_type": "markdown",
      "metadata": {
        "id": "JZpCXe0efsYV"
      },
      "source": [
        "# **Manejo de errores**\n",
        "\n",
        "Ej 6. Desafio: Para la venta de entradas de un teatro se cuenta con un diccionario que contiene las filas: “A”, “B”, “C”… y en cada fila contiene una lista con las ubicaciones disponibles en forma de lista [\"L\",\"O\",\"O\",\"O\",\"L\",\"L\",\"L\"] donde “L” es libre y “O” es ocupada.\n",
        "\n",
        "Escribir una funcion que reciba el diccionario, la fila y la ubicación en ella, y reserve el asiento en caso de que este libre. Considerar que el tamaño de la lista de ubicaciones puede variar por fila. Si la fila o la ubicación no son correctas, mostrar un mensaje descriptivo. Si el asiento ya se encuentra ocupado, mostrar el mensaje: El asiento ya se encuentra ocupado.\n",
        "\n",
        "Ejemplo\n",
        "```\n",
        "sala = {\"A\":[\"L\",\"O\",\"O\",\"O\",\"L\",\"L\",\"L\"], \"B\": [\"L\",\"O\",\"O\",\"O\",\"L\"]}\n",
        "reservar_butaca(sala, \"A\", 0)\n",
        "# En este ejemplo la fila \"A\" deberia quedar [\"O\",\"O\",\"O\",\"O\",\"L\",\"L\",\"L\"]\n",
        "```\n",
        "\n"
      ]
    },
    {
      "cell_type": "code",
      "execution_count": null,
      "metadata": {
        "id": "8-IWczgEfsAj"
      },
      "outputs": [],
      "source": [
        "def reservar_butaca(sala, fila, ubicacion):\n",
        "    try:\n",
        "        if sala[fila][ubicacion] == \"O\":\n",
        "              print(f\"El asiento en la fila {fila}, ubicación {ubicacion}, ya está ocupado.\")\n",
        "        else:\n",
        "            sala[fila][ubicacion] = \"O\"\n",
        "            print(f\"Se ha reservado el asiento en la fila {fila}, ubicación {ubicacion}.\")\n",
        "    except KeyError:\n",
        "        print(f\"La fila '{fila}' no existe en la sala.\")\n",
        "    except IndexError:\n",
        "        print(f\"La ubicación '{ubicacion}' no existe en la fila '{fila}'.\")"
      ]
    }
  ],
  "metadata": {
    "colab": {
      "provenance": []
    },
    "kernelspec": {
      "display_name": "Python 3",
      "name": "python3"
    },
    "language_info": {
      "name": "python"
    }
  },
  "nbformat": 4,
  "nbformat_minor": 0
}
