{
  "cells": [
    {
      "cell_type": "markdown",
      "metadata": {
        "id": "mPr70XdlhpCI"
      },
      "source": [
        "# 1. Archivos"
      ]
    },
    {
      "cell_type": "markdown",
      "metadata": {
        "id": "6oWq_lxngyu_"
      },
      "source": [
        "### **Ejercicio** 1 : Escribir una función llamada **contar (o count)** que dado un archivo retorne la cantidad de filas que tiene."
      ]
    },
    {
      "cell_type": "code",
      "execution_count": 25,
      "metadata": {
        "id": "ZwcuwcS0g4fj"
      },
      "outputs": [],
      "source": [
        "def contar(path_archivo):\n",
        "  archivo = open(path_archivo,'r')\n",
        "  contador_lineas = 0\n",
        "\n",
        "  for linea in archivo:\n",
        "    contador_lineas += 1\n",
        "\n",
        "  archivo.close()\n",
        "  return contador_lineas"
      ]
    },
    {
      "cell_type": "markdown",
      "metadata": {
        "id": "F7IgG757hscq"
      },
      "source": [
        "### **Ejercicio** 4 : Escribir una función llamada **ver_final (o tail)** que dado un archivo y un número N retorne en una lista las últimas N lineas del archivo."
      ]
    },
    {
      "cell_type": "code",
      "execution_count": 12,
      "metadata": {
        "id": "zzql5dmJh2MO"
      },
      "outputs": [],
      "source": [
        "def ver_final(path_archivo, N):\n",
        "  archivo = open(path_archivo, 'r')\n",
        "  lista_n_lineas = []\n",
        "  contador_lineas = 0\n",
        "  cantidad_lineas = contar(path_archivo)\n",
        "  lineas_no_importantes = cantidad_lineas - N\n",
        "\n",
        "  for linea in archivo:\n",
        "    if contador_lineas >= lineas_no_importantes:\n",
        "      lista_n_lineas.append(linea)\n",
        "    contador_lineas += 1\n",
        "\n",
        "  archivo.close()\n",
        "  return lista_n_lineas\n"
      ]
    },
    {
      "cell_type": "markdown",
      "metadata": {
        "id": "nUkzB62oh5TE"
      },
      "source": [
        "### **Ejercicio** 7 : Escribir una función, llamada grep, que reciba una cadena y un archivo de texto, e imprima las líneas del archivo que contienen la cadena recibida."
      ]
    },
    {
      "cell_type": "code",
      "execution_count": 17,
      "metadata": {
        "id": "bTQVGBM3h4Pa"
      },
      "outputs": [],
      "source": [
        "def grep(cadena, path):\n",
        "  with open(path,'r') as archivo:\n",
        "    for linea in archivo:\n",
        "      if cadena.lower() in linea.lower():\n",
        "        print(linea)\n"
      ]
    },
    {
      "cell_type": "markdown",
      "metadata": {
        "id": "EVHpJ9__h-mt"
      },
      "source": [
        "### **Ejercicio** 11 :\n",
        "\n",
        "La señora Rowling sospecha que su vecino le robo algunos manuscritos y los publicó como propios con algunas modificaciones. Se desea procesar una lista de archivos y guardar en un archivo llamado reporte_plagio.txt la siguiente información:\n",
        "\n",
        "\n",
        "archivo;palabras;apariciones\n",
        "\n",
        "archivo1.txt;765030;547\n",
        "\n",
        "* archivo: es el nombre del archivo que se proceso.\n",
        "* palabras: es la cantidad de palabras de ese archivo.\n",
        "* apariciones: es la cantidad de veces que aparece una palabra especificada.\n",
        "\n",
        "En ejemplo de uso podría ser:\n",
        "\n",
        "archivos = [\"archivo1.txt\", \"archivo2.txt\"]\n",
        "procesar_archivos(archivos, \"harry\")\n",
        "\n",
        "En procesar_archivos se tiene que analizar los archivos y dejar el resultado en reporte_plagio.txt"
      ]
    },
    {
      "cell_type": "code",
      "execution_count": null,
      "metadata": {
        "id": "MFb-12mFiKr5"
      },
      "outputs": [],
      "source": [
        "# Lo hacemos la proxima clase"
      ]
    }
  ],
  "metadata": {
    "colab": {
      "provenance": []
    },
    "kernelspec": {
      "display_name": "Python 3",
      "name": "python3"
    },
    "language_info": {
      "name": "python"
    }
  },
  "nbformat": 4,
  "nbformat_minor": 0
}
