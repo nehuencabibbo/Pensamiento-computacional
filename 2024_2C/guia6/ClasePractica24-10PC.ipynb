{
  "cells": [
    {
      "cell_type": "markdown",
      "metadata": {
        "id": "xoJivMz4gCA9"
      },
      "source": [
        "# **Numpy**\n"
      ]
    },
    {
      "cell_type": "markdown",
      "metadata": {
        "id": "rZUhRqsZnInO"
      },
      "source": [
        "Importante: Leer el [apunte](https://pensamientocomputacional.dev.ar/unidad_6.html). Los ejercicios son sencillos pero van a servir para la siguiente parte"
      ]
    },
    {
      "cell_type": "markdown",
      "metadata": {
        "id": "NWSWbJ50lEhL"
      },
      "source": [
        "5. Escribir una función que reciba:\n",
        "- Una lista y devuelva True si su longitud es par y False si su longitud es impar.\n",
        "- Una lista de números cualesquiera y devuelva el elemento máximo y el mínimo.\n",
        "- Una lista de números y devuelva otra lista con los mismos números ordenados de menor a mayor. Por ejemplo, si recibe [5, 10, 7, 3] debe devolver [3, 5, 7, 10]."
      ]
    },
    {
      "cell_type": "code",
      "execution_count": null,
      "metadata": {
        "id": "3RB1z-2KlKdY"
      },
      "outputs": [],
      "source": [
        "# Acordarse de importar la biblioteca numpy\n",
        "\n",
        "import numpy as np\n",
        "\n",
        "def es_par(numeros):\n",
        "    return np.size(numeros) % 2 == 0\n",
        "\n",
        "def maximo_minimo(numeros):\n",
        "    return np.max(numeros), np.min(numeros)\n",
        "\n",
        "def ordenar(numeros):\n",
        "    return np.sort(numeros)"
      ]
    },
    {
      "cell_type": "markdown",
      "metadata": {
        "id": "TETFceALlcVn"
      },
      "source": [
        "6. Escribir una función que reciba dos vectores y devuelva su prod_escalar. Si los vectores no tienen las mismas dimensiones, la función debe devolver None."
      ]
    },
    {
      "cell_type": "code",
      "execution_count": null,
      "metadata": {
        "id": "ibiwcpsil9Rn"
      },
      "outputs": [],
      "source": [
        "def prod_escalar(v1, v2):\n",
        "    if np.size(v1) != np.size(v2):\n",
        "        return None\n",
        "    return np.dot(v1, v2)"
      ]
    },
    {
      "cell_type": "markdown",
      "metadata": {
        "id": "e4yoqNVbmEND"
      },
      "source": [
        "7. Escribir una función que reciba una matriz y una tupla (fila, columna), y devuelva el valor ubicado en esa posición de la matriz. Ejemplo: si se recibe la matriz [[1, 2], [3, 4]] y la tupla (0, 1), debe devolver 2."
      ]
    },
    {
      "cell_type": "code",
      "execution_count": null,
      "metadata": {
        "id": "KCT8I4WNmGQZ"
      },
      "outputs": [],
      "source": [
        "## Pensar que los parametros van a estar definidos:\n",
        "# matriz = np.array([[1, 2], [3, 4]])\n",
        "# posicion = (0, 1)\n",
        "\n",
        "def obtener_valor(matriz, posicion):\n",
        "    return matriz[posicion[0], posicion[1]]\n",
        "\n",
        "# Pensar si se puede aplicar manejo de errores!"
      ]
    },
    {
      "cell_type": "markdown",
      "metadata": {
        "id": "kMa2X-d7mx8s"
      },
      "source": [
        "8. Desafio (obligatorio): Escribir una función que reciba un tamaño y devuelva una matriz con 1 en la diagonal principal y 0 en el resto. Ejemplo: si recibe 4, debe devolver la matriz identidad de tamaño 4x4.\n"
      ]
    },
    {
      "cell_type": "code",
      "execution_count": null,
      "metadata": {
        "id": "BgcW-1Prm3PT"
      },
      "outputs": [],
      "source": [
        "def matriz_identidad(dimension):\n",
        "    return np.eye(dimension)"
      ]
    },
    {
      "cell_type": "markdown",
      "metadata": {
        "id": "-XPF3yx8m2mw"
      },
      "source": [
        "9. Desafio (obligatorio): Escribir una función que reciba una matriz y devuelva su transpuesta. Ejemplo: si recibe la matriz [[1, 2, 3], [4, 5, 6]], debe devolver [[1, 4], [2, 5], [3, 6]].\n"
      ]
    },
    {
      "cell_type": "code",
      "execution_count": null,
      "metadata": {
        "id": "JmDRl1n0nGaP"
      },
      "outputs": [],
      "source": [
        "def transponer_matriz(matriz):\n",
        "    return np.transpose(matriz)"
      ]
    }
  ],
  "metadata": {
    "colab": {
      "provenance": []
    },
    "kernelspec": {
      "display_name": "Python 3",
      "name": "python3"
    },
    "language_info": {
      "name": "python"
    }
  },
  "nbformat": 4,
  "nbformat_minor": 0
}
